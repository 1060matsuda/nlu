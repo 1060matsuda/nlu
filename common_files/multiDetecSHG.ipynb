{
 "cells": [
  {
   "cell_type": "code",
   "execution_count": 1,
   "metadata": {},
   "outputs": [],
   "source": [
    "from cProfile import label\n",
    "import os\n",
    "from os import times\n",
    "from tokenize import cookie_re\n",
    "from xmlrpc.client import boolean\n",
    "from numpy.core.shape_base import atleast_2d\n",
    "from numpy.lib import type_check\n",
    "from scipy import fftpack\n",
    "import math\n",
    "import numpy as np\n",
    "import matplotlib.pyplot as plt\n",
    "import csv\n",
    "from scipy import signal\n",
    "from python_modules import FFT_utility as fu\n"
   ]
  },
  {
   "cell_type": "code",
   "execution_count": 2,
   "metadata": {},
   "outputs": [],
   "source": [
    "HPC_OR_LOCAL = \"LOCAL\"\n",
    "imputFileName = os.environ[\"MYWORK\"] + \\\n",
    "    \"/freqmix/freq_depend/dampCheck/noDampFreq/100GHz/result10/outp_1.csv\"\n",
    "data_raw = fu.loadCsvOutput(imputFileName)\n",
    "freq_f1 = 100  # GHz\n",
    "source_amp = 1000/freq_f1/20  # A\n",
    "#freq_index = 0\n",
    "non_detec_cols = int(3)\n",
    "Nc = 3  # How many cycles to window\n",
    "v_expt = 5500  # m/s\n",
    "\n",
    "T_f1 = 1000/freq_f1\n",
    "\"\"\"wave f1's wave cycle [ps].\"\"\"\n",
    "\n",
    "data_raw_cols = data_raw.shape[1]\n",
    "detecs_num = data_raw_cols - non_detec_cols\n",
    "# In most cases, data_raw[:,0] is time, data_raw[:,1] is source, data_raw[:,<last column>] is backend.\n",
    "\n",
    "time = data_raw[:, 0]\n",
    "timestep = time[1] - time[0]\n",
    "x_source = data_raw[:, 1]\n",
    "x_detecs_array = data_raw[:, 2:2+detecs_num]\n",
    "x_end = data_raw[:, -1]\n",
    "# In most cases, data_raw[:,0] is time, data_raw[:,1] is source, data_raw[:,<last column>] is backend.\n",
    "a_f1_at_detecs = np.zeros(detecs_num)\n",
    "a_2f1_at_detecs = np.zeros(detecs_num)\n",
    "a_3f1_at_detecs = np.zeros(detecs_num)\n",
    "a_4f1_at_detecs = np.zeros(detecs_num)\n",
    "\n",
    "\n",
    "betas_at_detecs = np.zeros(detecs_num)\n",
    "betas_at_detecs_corrected = np.zeros(detecs_num)\n",
    "#betaSHGArrayCorrected = np.zeros((len(freqs_f_1), len(detecs)))\n",
    "\n",
    "#wavelength_f1 = np.zeros(len(freqs_f_1))\n",
    "#waveVelocityArray = np.zeros((len(freqs_f_1), len(detecs)))\n",
    "\n",
    "Ns = T_f1/timestep  # Ns: Number of data points in one cycle\n",
    "N = int(Nc*Ns)  # N: Total Number of data points in thw windowed region\n",
    "u_detecs_array = x_detecs_array - x_detecs_array[0]\n",
    "\n",
    "delta_x_source_detec0 = x_detecs_array[0, 0] - x_source[0]\n",
    "delta_x_detecs = x_detecs_array[0, 1] - x_detecs_array[0, 0]\n",
    "delta_t_detecs = delta_x_detecs/10*(10**3)/5500  # ps\n",
    "\n",
    "\n",
    "# フーリエ変換\n",
    "for i in range(detecs_num):\n",
    "    # ゼロクロス法の音速測定\n",
    "    # Δx_source_and_detec[A]*100[pm/A] / v[pm/ps] = Δt_source_and_detec [ps]\n",
    "    # この時刻から半周期たった時（first positive peak）を基準に，そこからゼロクロス法を行う\n",
    "    x_detec = x_detecs_array[:, i]\n",
    "    u_detec = u_detecs_array[:, i]\n",
    "    delta_x_source_to_thisdetec = x_detec[0] - x_source[0]\n",
    "\n",
    "    zerocross_timestep, arrival_timestep, wave_velocity = fu.wave_arrival_zerocross(\n",
    "        u_detec, delta_x_source_to_thisdetec, v_expt, timestep, T_f1)\n",
    "\n",
    "    window_start_timestep = zerocross_timestep - int(T_f1/2/timestep)\n",
    "\n",
    "    wavelength_f1 = wave_velocity * T_f1 * (10**(-12))\n",
    "\n",
    "    # ここまで音速測定\n",
    "    \n",
    "    trimmedWave = fu.trimAndOffset(u_detec, window_start_timestep, N)\n",
    "    trimmedTime = time[window_start_timestep:window_start_timestep+N]\n",
    "    windowedWave = fu.window(trimmedWave, \"hann\")\n",
    "    paddedWave = fu.zeroPadding(windowedWave)\n",
    "    paddedWaveWithoutWindow = fu.zeroPadding(trimmedWave)\n",
    "\n",
    "\n",
    "    ##SUPER IMPORTANT##\n",
    "    waveToTransform = trimmedWave\n",
    "    ##CHOU DAIJI##\n",
    "    \n",
    "\n",
    "    # FFT. transformedArray: [0]=power, [1]=freq\n",
    "    # FFTedData = fftWithWindow(trimmedWave, \"hann\") #window = \"hann\" or \"hamming\"\n",
    "    #FFTedData = fftWithWindow(zeroPadding(trimmedWave), \"hann\")\n",
    "    ffted_data = fu.FFTonly(waveToTransform, timestep)\n",
    "    #FFTedData=FFTonly(window(trimmedWave, \"hann\"))\n",
    "    abs_ffted_data = np.abs(ffted_data)\n",
    "\n",
    "    # higher harmonics amplitude[arb]\n",
    "    harmonicsIndex = fu.getIndexUpToSixthHarmonic(\n",
    "        abs_ffted_data[1], freq_f1*10**9)\n",
    "    A_f1 = abs_ffted_data[0][harmonicsIndex[0]]\n",
    "    A_2f1 = abs_ffted_data[0][harmonicsIndex[1]]\n",
    "    A_3f1 = abs_ffted_data[0][harmonicsIndex[2]]\n",
    "    A_4f1 = abs_ffted_data[0][harmonicsIndex[3]]\n",
    "    A_5f1 = abs_ffted_data[0][harmonicsIndex[4]]\n",
    "    A_6f1 = abs_ffted_data[0][harmonicsIndex[5]]\n",
    "\n",
    "    a_f1 = A_f1*2/int(len(waveToTransform))*10**-10\n",
    "    a_f1_at_detecs[i] = a_f1\n",
    "\n",
    "    a_2f1 = A_2f1*2/int(len(waveToTransform))*10**-10\n",
    "    a_2f1_at_detecs[i] = a_2f1\n",
    "\n",
    "    a_3f1 = A_3f1*2/int(len(waveToTransform))*10**-10\n",
    "    a_3f1_at_detecs[i] = a_3f1\n",
    "\n",
    "    a_4f1 = A_4f1*2/int(len(waveToTransform))*10**-10\n",
    "    a_4f1_at_detecs[i] = a_4f1\n",
    "\n",
    "    a_f1_source = source_amp*10**-10\n",
    "    a_f2_source = source_amp*10**-10\n",
    "\n",
    "    beta_shg = fu.getBetaSHG(a_f1_source, a_2f1, wavelength_f1,\n",
    "                             delta_x_source_to_thisdetec*(10**-10))\n",
    "    beta_shg_corrected = fu.getBetaSHG(\n",
    "        a_f1, a_2f1, wavelength_f1, delta_x_source_to_thisdetec*(10**-10))\n",
    "    \"\"\"with open(\"betaSHG.txt\", \"w\") as f:\n",
    "        f.write(str(betaSHG))\n",
    "    \"\"\"\n",
    "    betas_at_detecs[i] = beta_shg\n",
    "    betas_at_detecs_corrected[i] = beta_shg_corrected\n",
    "\n",
    "# drawings\n",
    "# if detec_index-detec_num_min == 10 and freq == 200:\n",
    "if False:\n",
    "    # if True:\n",
    "    # if HPC_OR_LOCAL == \"LOCAL\" and detecNum-detecMin == 10 :\n",
    "    fig = plt.figure()\n",
    "    print(\"x_detec1\")\n",
    "    y = u_detec\n",
    "    time_red = time[window_start_timestep:window_start_timestep+N]\n",
    "    y_red = y[window_start_timestep:window_start_timestep+N]\n",
    "    time1 = time[:window_start_timestep]\n",
    "    y1 = y[:window_start_timestep]\n",
    "    time2 = time[window_start_timestep+N:]\n",
    "    y2 = y[window_start_timestep+N:]\n",
    "    plt.xlabel(\"Time [ps]\")\n",
    "    plt.ylabel(\"Detector Displacement [Å]\")\n",
    "    plt.plot(time, y)\n",
    "    plt.plot(time_red, y_red, color=\"red\")\n",
    "    plt.axvline(x=arrival_timestep*timestep,\n",
    "                color=\"green\", linestyle=\"--\")\n",
    "    #plt.axvline(x=windowStartTimeStep*timeStep, color=\"red\")\n",
    "    #plt.axvline(x=(windowStartTimeStep+N)*timeStep, color=\"red\")\n",
    "    plt.show()\n",
    "\n",
    "    print(\"timeStep Δt is:\")\n",
    "    print(timestep)\n",
    "\n",
    "    print(\"trimmed and offseted form of superimposed wave\")\n",
    "    plt.title(\"Trimmed Wave for 20ps\")\n",
    "    plt.plot(trimmedTime, trimmedWave)\n",
    "    plt.xlabel(\"Time [ps]\")\n",
    "    plt.ylabel(\"Detector Displacement [Å]\")\n",
    "    plt.show()\n",
    "\n",
    "    print(\"Windowed Wave\")\n",
    "    plt.plot(trimmedTime, windowedWave)\n",
    "    plt.title(\"Windowed Wave\")\n",
    "    plt.xlabel(\"Time [ps]\")\n",
    "    plt.ylabel(\"Detector Displacement [Å]\")\n",
    "    plt.show()\n",
    "\n",
    "    print(\"padded wave\")\n",
    "    plt.plot(paddedWave)\n",
    "    plt.show()\n",
    "\n",
    "    print()\n",
    "    print(\"timeStep Δt is:\")\n",
    "    print(timestep)\n",
    "\n",
    "    print(\"wave velocity v[m/s] is:\")\n",
    "    print(wave_velocity)\n",
    "\n",
    "    print(\"wave length λ1 is:\")\n",
    "    print(waveLength1)\n",
    "\n",
    "    fig, ax = plt.subplots()\n",
    "    ax.set_yscale(\"log\")\n",
    "    #ax.plot(absFFTData[1,1:int(N/2)], absFFTData[0,1:int(N/2)])\n",
    "    ax.plot(abs_ffted_data[1, 0:getIndexOfNearestValue(abs_ffted_data[1], max(freq_f1, inputFreq2))*4],\n",
    "            abs_ffted_data[0, 0:getIndexOfNearestValue(abs_ffted_data[1], max(freq_f1, inputFreq2))*4], marker=\"o\", linestyle=\"--\")\n",
    "    ax.set_xlabel(\"Freqency [Hz]\")\n",
    "    ax.set_ylabel(\"Amplitude [arb.]\")\n",
    "    ax.grid()\n",
    "    plt.title(\"Frequency spectrum\")\n",
    "    plt.show()\n",
    "\n",
    "    print(a_f1, af2, asum, adif)\n",
    "\n",
    "    print(\"beta(SHG):\")\n",
    "    print(beta_shg)\n",
    "    betaSHGArray[freq_index, detec_index] = beta_shg\n",
    "    print(\"beta(FreqMix): f1-f2, f1+f2, ave \")\n",
    "    print(betaFreqMix)\n",
    "\n",
    "    x_bar = np.array([inputFreq2, freq_f1-inputFreq2,\n",
    "                      freq_f1, freq_f1+inputFreq2, inputFreq2*2])\n",
    "    y_bar = np.array([Af2, Afdif, Af1, Afsum, A_2f1])\n",
    "    x_bar = x_bar / 10**11\n",
    "    plt.xlabel(\"100GHz\")\n",
    "    # print(x_bar)\n",
    "    # print(y_bar)\n",
    "    plt.bar(x_bar, y_bar)\n",
    "    plt.show()\n",
    "\n",
    "    x_bar = np.array([\"$f_1$\", \"$2f_1$\", \"3$f_1$\",\n",
    "                      \"4$f_1$\", \"5$f_1$\", \"6$f_1$\"])\n",
    "    y_bar = np.array([A_f1, A_2f1, A_3f1, A_4f1, A_5f1, A_6f1])\n",
    "    # print(x_bar)\n",
    "    # print(y_bar)\n",
    "    plt.bar(x_bar, y_bar)\n",
    "    plt.show()\n",
    "# print(af1s[freq_index])\n",
    "# print(a2f1s[freq_index])\n",
    "#np.savetxt(str(freq)+\"GHzDamp.txt\", af1s[freq_index])\n"
   ]
  },
  {
   "cell_type": "code",
   "execution_count": 3,
   "metadata": {},
   "outputs": [
    {
     "data": {
      "image/png": "[encoded data removed]",
      "text/plain": [
       "<Figure size 432x288 with 1 Axes>"
      ]
     },
     "metadata": {
      "needs_background": "light"
     },
     "output_type": "display_data"
    },
    {
     "data": {
      "image/png": "[encoded data removed]",
      "text/plain": [
       "<Figure size 432x288 with 1 Axes>"
      ]
     },
     "metadata": {
      "needs_background": "light"
     },
     "output_type": "display_data"
    },
    {
     "data": {
      "image/png": "[encoded data removed]",
      "text/plain": [
       "<Figure size 432x288 with 1 Axes>"
      ]
     },
     "metadata": {
      "needs_background": "light"
     },
     "output_type": "display_data"
    }
   ],
   "source": [
    "plt.plot(x_detecs_array[0, :], a_f1_at_detecs /\n",
    "         a_f1_source, marker=\"o\", linestyle=\"none\")\n",
    "plt.show()\n",
    "\n",
    "plt.plot(x_detecs_array[0, :], a_2f1_at_detecs, marker=\"o\", linestyle=\"none\")\n",
    "plt.title(\"Propagation distance vs Second harmonic amplitude\")\n",
    "plt.savefig(\"a_2f1.png\")\n",
    "plt.show()\n",
    "\n",
    "fig, ax = plt.subplots()\n",
    "ax.set_title(\"$a_{2f_1}/x$\")\n",
    "ax.plot(x_detecs_array[0, :], a_2f1_at_detecs /\n",
    "        x_detecs_array[0, :], marker=\"o\", linestyle=\"none\")\n",
    "plt.show()\n"
   ]
  },
  {
   "cell_type": "code",
   "execution_count": 4,
   "metadata": {},
   "outputs": [
    {
     "data": {
      "image/png": "[encoded data removed]",
      "text/plain": [
       "<Figure size 432x288 with 1 Axes>"
      ]
     },
     "metadata": {
      "needs_background": "light"
     },
     "output_type": "display_data"
    },
    {
     "name": "stdout",
     "output_type": "stream",
     "text": [
      "412764.86010551825\n",
      "2.541768594870994\n"
     ]
    },
    {
     "data": {
      "image/png": "[encoded data removed]",
      "text/plain": [
       "<Figure size 432x288 with 1 Axes>"
      ]
     },
     "metadata": {
      "needs_background": "light"
     },
     "output_type": "display_data"
    },
    {
     "name": "stdout",
     "output_type": "stream",
     "text": [
      "412525.79734246404\n",
      "2.5402964680451325\n"
     ]
    }
   ],
   "source": [
    "# slope method\n",
    "res1 = np.polyfit(\n",
    "    x_detecs_array[0, :], a_2f1_at_detecs/a_f1_at_detecs/a_f1_at_detecs, 1)\n",
    "linear = np.poly1d(res1)(x_detecs_array[0, :])\n",
    "plt.plot(x_detecs_array[0, :], linear)\n",
    "plt.plot(x_detecs_array[0, :], a_2f1_at_detecs /\n",
    "         a_f1_at_detecs/a_f1_at_detecs, marker=\"o\", linestyle=\"none\")\n",
    "plt.title(\"$a_{2f_1}/a^2_{f_1}$, with a=a(x)\")\n",
    "plt.show()\n",
    "print(res1[0])\n",
    "print(res1[0]*8*wavelength_f1*wavelength_f1*10**10/4/np.pi**2)\n",
    "beta_slope_corr = res1[0]*8*wavelength_f1*wavelength_f1*10**10/4/np.pi**2\n",
    "\n",
    "res2 = np.polyfit(x_detecs_array[0, :],\n",
    "                  a_2f1_at_detecs/a_f1_source/a_f1_source, 1)\n",
    "linear = np.poly1d(res1)(x_detecs_array[0, :])\n",
    "plt.plot(x_detecs_array[0, :], linear)\n",
    "plt.plot(x_detecs_array[0, :], a_2f1_at_detecs /\n",
    "         a_f1_source/a_f1_source, marker=\"o\", linestyle=\"none\")\n",
    "plt.title(\"$a_{2f_1}/a^2_{f_1}$, with $a=a_{source}$\")\n",
    "plt.show()\n",
    "print(res2[0])\n",
    "print(res2[0]*8*wavelength_f1*wavelength_f1*10**10/4/np.pi**2)\n",
    "beta_slope_source = res2[0]*8*wavelength_f1*wavelength_f1*10**10/4/np.pi**2\n"
   ]
  },
  {
   "cell_type": "code",
   "execution_count": 5,
   "metadata": {},
   "outputs": [
    {
     "data": {
      "image/png": "[encoded data removed]",
      "text/plain": [
       "<Figure size 432x288 with 1 Axes>"
      ]
     },
     "metadata": {
      "needs_background": "light"
     },
     "output_type": "display_data"
    }
   ],
   "source": [
    "fig, ax = plt.subplots()\n",
    "\n",
    "ax.plot(x_detecs_array[0, :], betas_at_detecs_corrected,\n",
    "        marker=\"o\", linestyle=\"none\", label=r\"$\\beta _{corr}$\")\n",
    "ax.plot(x_detecs_array[0, :], betas_at_detecs, marker=\"o\",\n",
    "        linestyle=\"none\", label=r\"$\\beta_{source}$\")\n",
    "ax.axhline(y=beta_slope_corr, linestyle=\"--\",\n",
    "           color=\"red\", label=r\"$\\beta _{slope,corr}$\")\n",
    "ax.axhline(y=beta_slope_source, linestyle=\"--\",\n",
    "           color=\"green\", label=r\"$\\beta _{slope,source}$\")\n",
    "ax.legend()\n",
    "plt.show()\n"
   ]
  },
  {
   "cell_type": "code",
   "execution_count": 6,
   "metadata": {},
   "outputs": [
    {
     "name": "stdout",
     "output_type": "stream",
     "text": [
      "2.5402964680451325\n",
      "2.541768594870994\n",
      "2.538150804127425\n",
      "2.5396962073771983\n"
     ]
    }
   ],
   "source": [
    "print(beta_slope_source)\n",
    "print(beta_slope_corr)\n",
    "print(betas_at_detecs[-1])\n",
    "print(betas_at_detecs_corrected[-1])\n"
   ]
  }
 ],
 "metadata": {
  "kernelspec": {
   "display_name": "Python 3.8.10 64-bit",
   "language": "python",
   "name": "python3"
  },
  "language_info": {
   "codemirror_mode": {
    "name": "ipython",
    "version": 3
   },
   "file_extension": ".py",
   "mimetype": "text/x-python",
   "name": "python",
   "nbconvert_exporter": "python",
   "pygments_lexer": "ipython3",
   "version": "3.8.10"
  },
  "orig_nbformat": 4,
  "vscode": {
   "interpreter": {
    "hash": "e7370f93d1d0cde622a1f8e1c04877d8463912d04d973331ad4851f04de6915a"
   }
  }
 },
 "nbformat": 4,
 "nbformat_minor": 2
}
